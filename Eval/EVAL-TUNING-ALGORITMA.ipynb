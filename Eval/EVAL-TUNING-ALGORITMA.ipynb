{
 "cells": [
  {
   "cell_type": "code",
   "execution_count": 19,
   "metadata": {},
   "outputs": [
    {
     "name": "stdout",
     "output_type": "stream",
     "text": [
      "✅ Libraries imported successfully!\n"
     ]
    }
   ],
   "source": [
    "import pandas as pd\n",
    "import numpy as np\n",
    "import joblib\n",
    "import os\n",
    "\n",
    "from sklearn.model_selection import GridSearchCV, StratifiedKFold\n",
    "from sklearn.preprocessing import MinMaxScaler, PowerTransformer\n",
    "from sklearn.metrics import accuracy_score, precision_score, recall_score, f1_score, roc_auc_score\n",
    "\n",
    "from lightgbm import LGBMClassifier\n",
    "from sklearn.ensemble import ExtraTreesClassifier\n",
    "from sklearn.svm import SVC\n",
    "from sklearn.naive_bayes import GaussianNB\n",
    "from catboost import CatBoostClassifier\n",
    "\n",
    "print(\"✅ Libraries imported successfully!\")"
   ]
  },
  {
   "cell_type": "code",
   "execution_count": 20,
   "metadata": {},
   "outputs": [
    {
     "name": "stdout",
     "output_type": "stream",
     "text": [
      "✅ Data loaded! X_train shape: (12240, 7), y_train shape: (12240,)\n"
     ]
    }
   ],
   "source": [
    "x_tr_resample = pd.read_csv('../Data/X_train_smote.csv')\n",
    "y_tr_resample = np.loadtxt(\"../Data/y_train_smote.csv\", delimiter=\",\")\n",
    "\n",
    "print(f\"✅ Data loaded! X_train shape: {x_tr_resample.shape}, y_train shape: {y_tr_resample.shape}\")\n"
   ]
  },
  {
   "cell_type": "code",
   "execution_count": 21,
   "metadata": {},
   "outputs": [
    {
     "name": "stdout",
     "output_type": "stream",
     "text": [
      "✅ Data scaled & scalers saved!\n"
     ]
    }
   ],
   "source": [
    "minmax = MinMaxScaler()\n",
    "x_minmax_scaled = minmax.fit_transform(x_tr_resample)\n",
    "joblib.dump(minmax, \"../Models/tuning/minmax.pkl\")\n",
    "\n",
    "# Transformasi PowerTransformer\n",
    "pt = PowerTransformer()\n",
    "x_pt_scaled = pt.fit_transform(x_tr_resample)\n",
    "joblib.dump(pt, \"../Models/tuning/powertransformer.pkl\")\n",
    "\n",
    "print(\"✅ Data scaled & scalers saved!\")"
   ]
  },
  {
   "cell_type": "code",
   "execution_count": 22,
   "metadata": {},
   "outputs": [
    {
     "name": "stdout",
     "output_type": "stream",
     "text": [
      "✅ Hyperparameter grid defined!\n"
     ]
    }
   ],
   "source": [
    "param_grids = {\n",
    "    \"LGBM\": {\n",
    "        'n_estimators': [100, 300],\n",
    "        'learning_rate': [0.3],  \n",
    "        'num_leaves': [120],  \n",
    "        'max_depth': [3],  \n",
    "        'feature_fraction': [0.84],  \n",
    "        'bagging_fraction': [0.75],  \n",
    "        'min_data_in_leaf': [80],  \n",
    "        'lambda_l1': [0.2],  \n",
    "        'lambda_l2': [0.56]  \n",
    "    },\n",
    "    \"ETC\": {\n",
    "        'n_estimators': [400],\n",
    "        'max_depth': [50],\n",
    "        'min_samples_split': [2],\n",
    "        'min_samples_leaf': [2],\n",
    "        'max_features': [None],\n",
    "        'bootstrap': [True], \n",
    "        'criterion': ['gini']\n",
    "    },\n",
    "    \"SVM\": {\n",
    "        'C': [0.01, 0.1, 1, 10, 100, 1000],\n",
    "        'gamma': [1e-4, 1e-3, 1e-2, 0.1, 1, 10, 100],\n",
    "        'kernel': ['rbf']\n",
    "    },\n",
    "    \"GNB\": {\n",
    "        'var_smoothing': np.concatenate([\n",
    "            np.logspace(-15, -12, 10),  \n",
    "            np.logspace(-12, -9, 15),   \n",
    "            np.logspace(-9, -6, 15), \n",
    "            np.logspace(-6, -3, 10)    \n",
    "        ]),\n",
    "        'priors': [\n",
    "            None,  \n",
    "            [0.05, 0.95], [0.95, 0.05],  \n",
    "            [0.1, 0.9], [0.15, 0.85],\n",
    "            [0.3, 0.7], [0.35, 0.65], \n",
    "            [0.4, 0.6], [0.45, 0.55],  \n",
    "            [0.5, 0.5], \n",
    "            [0.55, 0.45], [0.6, 0.4],\n",
    "            [0.65, 0.35], [0.7, 0.3], \n",
    "            [0.75, 0.25], [0.8, 0.2], [0.85, 0.15],\n",
    "            [0.9, 0.1], [0.95, 0.05]\n",
    "        ],\n",
    "    },   \n",
    "    \"CATBOOST\": {\n",
    "        'iterations': [100, 300],\n",
    "        'depth': [8, 10],\n",
    "        'learning_rate': [0.05, 0.1]   \n",
    "    }\n",
    "}\n",
    "print(\"✅ Hyperparameter grid defined!\")"
   ]
  },
  {
   "cell_type": "code",
   "execution_count": 23,
   "metadata": {},
   "outputs": [],
   "source": [
    "models = {\n",
    "    \"LGBM\": LGBMClassifier(boosting_type='gbdt', objective='binary', metric='accuracy', verbose=-1, random_state=42),\n",
    "    \"ETC\": ExtraTreesClassifier(random_state=42),\n",
    "    \"SVM\": SVC(probability=True, random_state=42),\n",
    "    \"GNB\": GaussianNB(),\n",
    "    \"CATBOOST\": CatBoostClassifier(verbose=0, random_state=42, devices='0:1')\n",
    "}\n"
   ]
  },
  {
   "cell_type": "code",
   "execution_count": 24,
   "metadata": {},
   "outputs": [
    {
     "name": "stdout",
     "output_type": "stream",
     "text": [
      "✅ Models initialized!\n"
     ]
    }
   ],
   "source": [
    "model_dir = \"../Models/Tuning\"\n",
    "os.makedirs(model_dir, exist_ok=True)\n",
    "\n",
    "print(\"✅ Models initialized!\")"
   ]
  },
  {
   "cell_type": "code",
   "execution_count": 25,
   "metadata": {},
   "outputs": [],
   "source": [
    "results = []\n",
    "cv = StratifiedKFold(n_splits=10, shuffle=True, random_state=42)"
   ]
  },
  {
   "cell_type": "code",
   "execution_count": 26,
   "metadata": {},
   "outputs": [
    {
     "name": "stdout",
     "output_type": "stream",
     "text": [
      "\n",
      "🔍 Tuning LGBM with GridSearchCV...\n",
      "Fitting 10 folds for each of 2 candidates, totalling 20 fits\n",
      "✅ Best Params for LGBM: {'bagging_fraction': 0.75, 'feature_fraction': 0.84, 'lambda_l1': 0.2, 'lambda_l2': 0.56, 'learning_rate': 0.3, 'max_depth': 3, 'min_data_in_leaf': 80, 'n_estimators': 100, 'num_leaves': 120}\n",
      "📦 LGBM model saved at ../Models/Tuning\\MODEL-LGBM.pkl\n",
      "\n",
      "🔍 Tuning ETC with GridSearchCV...\n",
      "Fitting 10 folds for each of 1 candidates, totalling 10 fits\n",
      "✅ Best Params for ETC: {'bootstrap': True, 'criterion': 'gini', 'max_depth': 50, 'max_features': None, 'min_samples_leaf': 2, 'min_samples_split': 2, 'n_estimators': 400}\n",
      "📦 ETC model saved at ../Models/Tuning\\MODEL-ETC.pkl\n",
      "\n",
      "🔍 Tuning SVM with GridSearchCV...\n",
      "Fitting 10 folds for each of 42 candidates, totalling 420 fits\n",
      "✅ Best Params for SVM: {'C': 1000, 'gamma': 10, 'kernel': 'rbf'}\n",
      "📦 SVM model saved at ../Models/Tuning\\MODEL-SVM.pkl\n",
      "\n",
      "🔍 Tuning GNB with GridSearchCV...\n",
      "Fitting 10 folds for each of 950 candidates, totalling 9500 fits\n",
      "✅ Best Params for GNB: {'priors': [0.65, 0.35], 'var_smoothing': 0.00046415888336127773}\n",
      "📦 GNB model saved at ../Models/Tuning\\MODEL-GNB.pkl\n",
      "\n",
      "🔍 Tuning CATBOOST with GridSearchCV...\n",
      "Fitting 10 folds for each of 8 candidates, totalling 80 fits\n",
      "✅ Best Params for CATBOOST: {'depth': 8, 'iterations': 300, 'learning_rate': 0.05}\n",
      "📦 CATBOOST model saved at ../Models/Tuning\\MODEL-CATBOOST.pkl\n"
     ]
    }
   ],
   "source": [
    "for name, model in models.items():\n",
    "    print(f\"\\n🔍 Tuning {name} with GridSearchCV...\", flush=True)\n",
    "\n",
    "    # Select dataset\n",
    "    if name == \"SVM\":\n",
    "        X_train = x_minmax_scaled\n",
    "    elif name == \"GNB\":\n",
    "        X_train = x_pt_scaled\n",
    "    else:\n",
    "        X_train = x_tr_resample\n",
    "\n",
    "    # Grid Search with verbose\n",
    "    grid_search = GridSearchCV(model, param_grids[name], cv=cv, scoring='accuracy', n_jobs=4, verbose=3)\n",
    "    grid_search.fit(X_train, y_tr_resample)\n",
    "\n",
    "    # Best Model\n",
    "    best_model = grid_search.best_estimator_\n",
    "    best_params = grid_search.best_params_\n",
    "\n",
    "    print(f\"✅ Best Params for {name}: {best_params}\")\n",
    "\n",
    "    # Evaluate\n",
    "    y_pred = best_model.predict(X_train)\n",
    "    y_pred_proba = best_model.predict_proba(X_train)[:, 1] if hasattr(best_model, \"predict_proba\") else np.zeros_like(y_pred)\n",
    "\n",
    "    # Compute Metrics\n",
    "    accuracy = accuracy_score(y_tr_resample, y_pred) * 100\n",
    "    precision = precision_score(y_tr_resample, y_pred, zero_division=0) * 100\n",
    "    recall = recall_score(y_tr_resample, y_pred, zero_division=0) * 100\n",
    "    f1 = f1_score(y_tr_resample, y_pred, zero_division=0) * 100\n",
    "    roc_auc = roc_auc_score(y_tr_resample, y_pred_proba) * 100\n",
    "\n",
    "    # Save Best Model\n",
    "    model_path = os.path.join(model_dir, f\"MODEL-{name}.pkl\")\n",
    "    joblib.dump(best_model, model_path)\n",
    "\n",
    "    print(f\"📦 {name} model saved at {model_path}\")\n",
    "\n",
    "    # Store Results\n",
    "    results.append([name, accuracy, precision, recall, f1, roc_auc])"
   ]
  },
  {
   "cell_type": "code",
   "execution_count": 27,
   "metadata": {},
   "outputs": [
    {
     "name": "stdout",
     "output_type": "stream",
     "text": [
      "\n",
      "📊 Final Evaluation Results:\n",
      "===========================================================================\n",
      "Model      Accuracy     Precision    Recall       F1 Score     ROC AUC     \n",
      "===========================================================================\n",
      "LGBM       99.9265      99.9836      99.8693      99.9264      99.9994     \n",
      "ETC        99.9510      99.9836      99.9183      99.9510      99.9999     \n",
      "SVM        100.0000     100.0000     100.0000     100.0000     100.0000    \n",
      "GNB        94.8039      94.5854      95.0490      94.8166      97.7200     \n",
      "CATBOOST   99.9673      100.0000     99.9346      99.9673      100.0000    \n",
      "===========================================================================\n"
     ]
    }
   ],
   "source": [
    "print(\"\\n📊 Final Evaluation Results:\")\n",
    "print(\"=\" * 75)\n",
    "print(f\"{'Model':<10} {'Accuracy':<12} {'Precision':<12} {'Recall':<12} {'F1 Score':<12} {'ROC AUC':<12}\")\n",
    "print(\"=\" * 75)\n",
    "for res in results:\n",
    "    print(f\"{res[0]:<10} {res[1]:<12.4f} {res[2]:<12.4f} {res[3]:<12.4f} {res[4]:<12.4f} {res[5]:<12.4f}\")\n",
    "print(\"=\" * 75)"
   ]
  }
 ],
 "metadata": {
  "kernelspec": {
   "display_name": "rendots",
   "language": "python",
   "name": "python3"
  },
  "language_info": {
   "codemirror_mode": {
    "name": "ipython",
    "version": 3
   },
   "file_extension": ".py",
   "mimetype": "text/x-python",
   "name": "python",
   "nbconvert_exporter": "python",
   "pygments_lexer": "ipython3",
   "version": "3.12.3"
  }
 },
 "nbformat": 4,
 "nbformat_minor": 2
}

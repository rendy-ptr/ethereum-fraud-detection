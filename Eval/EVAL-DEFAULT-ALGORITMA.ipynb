{
 "cells": [
  {
   "cell_type": "code",
   "execution_count": 5,
   "metadata": {},
   "outputs": [],
   "source": [
    "import pandas as pd\n",
    "import numpy as np\n",
    "import joblib\n",
    "import os\n",
    "from time import time\n",
    "\n",
    "from lightgbm import LGBMClassifier\n",
    "from sklearn.ensemble import ExtraTreesClassifier\n",
    "from sklearn.svm import SVC\n",
    "from sklearn.naive_bayes import GaussianNB\n",
    "from catboost import CatBoostClassifier\n",
    "from sklearn.preprocessing import MinMaxScaler, PowerTransformer\n",
    "from sklearn.metrics import accuracy_score, precision_score, recall_score, f1_score, roc_auc_score"
   ]
  },
  {
   "cell_type": "code",
   "execution_count": 6,
   "metadata": {},
   "outputs": [],
   "source": [
    "x_tr_resample = pd.read_csv('../Data/X_train_smote.csv')\n",
    "y_tr_resample = np.loadtxt(\"../Data/y_train_smote.csv\", delimiter=\",\")"
   ]
  },
  {
   "cell_type": "code",
   "execution_count": 7,
   "metadata": {},
   "outputs": [
    {
     "data": {
      "text/plain": [
       "['../Models/Default/powertransformer.pkl']"
      ]
     },
     "execution_count": 7,
     "metadata": {},
     "output_type": "execute_result"
    }
   ],
   "source": [
    "minmax = MinMaxScaler()\n",
    "x_minmax_scaled = minmax.fit_transform(x_tr_resample)\n",
    "joblib.dump(minmax, \"../Models/Default/minmax.pkl\")\n",
    "\n",
    "pt = PowerTransformer()\n",
    "x_pt_scaled = pt.fit_transform(x_tr_resample)\n",
    "joblib.dump(pt, \"../Models/Default/powertransformer.pkl\")"
   ]
  },
  {
   "cell_type": "code",
   "execution_count": 8,
   "metadata": {},
   "outputs": [],
   "source": [
    "models = {\n",
    "    \"LGBM\": LGBMClassifier(n_estimators=100, random_state=42, verbose=-1, force_col_wise=True),\n",
    "    \"ETC\": ExtraTreesClassifier(n_estimators=500, random_state=42),\n",
    "    \"SVM\": SVC(probability=True, kernel='rbf', C=1, random_state=42),\n",
    "    \"GNB\": GaussianNB(var_smoothing=1e-09),\n",
    "    \"CATBOOST\": CatBoostClassifier(iterations=1000, verbose=0, random_state=42)\n",
    "}"
   ]
  },
  {
   "cell_type": "code",
   "execution_count": 9,
   "metadata": {},
   "outputs": [],
   "source": [
    "model_dir = \"../Models/Default\"\n",
    "os.makedirs(model_dir, exist_ok=True)"
   ]
  },
  {
   "cell_type": "code",
   "execution_count": 10,
   "metadata": {},
   "outputs": [],
   "source": [
    "results = []"
   ]
  },
  {
   "cell_type": "code",
   "execution_count": 11,
   "metadata": {},
   "outputs": [
    {
     "name": "stdout",
     "output_type": "stream",
     "text": [
      "Training LGBM...\n",
      "LGBM model saved at ../Models/Default\\MODEL-LGBM.pkl\n",
      "Training ETC...\n",
      "ETC model saved at ../Models/Default\\MODEL-ETC.pkl\n",
      "Training SVM...\n",
      "SVM model saved at ../Models/Default\\MODEL-SVM.pkl\n",
      "Training GNB...\n",
      "GNB model saved at ../Models/Default\\MODEL-GNB.pkl\n",
      "Training CATBOOST...\n",
      "CATBOOST model saved at ../Models/Default\\MODEL-CATBOOST.pkl\n"
     ]
    }
   ],
   "source": [
    "for name, model in models.items():\n",
    "    print(f\"Training {name}...\")\n",
    "    start_time = time()\n",
    "    \n",
    "    if name == \"SVM\":\n",
    "        model.fit(x_minmax_scaled, y_tr_resample)\n",
    "        y_pred = model.predict(x_minmax_scaled)\n",
    "        y_pred_proba = model.predict_proba(x_minmax_scaled)[:, 1]\n",
    "    elif name == \"GNB\":\n",
    "        model.fit(x_pt_scaled, y_tr_resample)\n",
    "        y_pred = model.predict(x_pt_scaled)\n",
    "        y_pred_proba = model.predict_proba(x_pt_scaled)[:, 1]\n",
    "    else:\n",
    "        model.fit(x_tr_resample, y_tr_resample)\n",
    "        y_pred = model.predict(x_tr_resample)\n",
    "        y_pred_proba = model.predict_proba(x_tr_resample)[:, 1]\n",
    "    \n",
    "    end_time = time()\n",
    "    \n",
    "    # Compute Metrics\n",
    "    accuracy = accuracy_score(y_tr_resample, y_pred) * 100\n",
    "    precision = precision_score(y_tr_resample, y_pred, zero_division=0) * 100\n",
    "    recall = recall_score(y_tr_resample, y_pred, zero_division=0) * 100\n",
    "    f1 = f1_score(y_tr_resample, y_pred, zero_division=0) * 100\n",
    "    roc_auc = roc_auc_score(y_tr_resample, y_pred_proba) * 100\n",
    "    computation_time = end_time - start_time\n",
    "    \n",
    "    results.append([name, computation_time, accuracy, precision, recall, f1, roc_auc])\n",
    "    # Save Model\n",
    "    model_path = os.path.join(model_dir, f\"MODEL-{name}.pkl\")\n",
    "    joblib.dump(model, model_path)\n",
    "    print(f\"{name} model saved at {model_path}\")"
   ]
  },
  {
   "cell_type": "code",
   "execution_count": 12,
   "metadata": {},
   "outputs": [
    {
     "name": "stdout",
     "output_type": "stream",
     "text": [
      "\n",
      "Final Evaluation Results:\n",
      "===========================================================================\n",
      "Model      Time (s)     Accuracy     Precision    Recall       F1 Score     ROC AUC     \n",
      "===========================================================================\n",
      "LGBM       0.1697       100.00       100.00       100.00       100.00       100.00      \n",
      "ETC        2.1167       100.00       100.00       100.00       100.00       100.00      \n",
      "SVM        4.2746       97.40        96.96        97.88        97.41        99.38       \n",
      "GNB        0.0040       92.45        88.49        97.60        92.82        97.72       \n",
      "CATBOOST   3.7431       99.94        99.98        99.90        99.94        100.00      \n",
      "===========================================================================\n",
      "\n",
      "All models trained, evaluated, and saved successfully!\n"
     ]
    }
   ],
   "source": [
    "print(\"\\nFinal Evaluation Results:\")\n",
    "print(\"=\" * 75)\n",
    "print(f\"{'Model':<10} {'Time (s)':<12} {'Accuracy':<12} {'Precision':<12} {'Recall':<12} {'F1 Score':<12} {'ROC AUC':<12}\")\n",
    "print(\"=\" * 75)\n",
    "for res in results:\n",
    "    print(f\"{res[0]:<10} {res[1]:<12.4f} {res[2]:<12.2f} {res[3]:<12.2f} {res[4]:<12.2f} {res[5]:<12.2f} {res[6]:<12.2f}\")\n",
    "print(\"=\" * 75)\n",
    "\n",
    "print(\"\\nAll models trained, evaluated, and saved successfully!\")"
   ]
  }
 ],
 "metadata": {
  "kernelspec": {
   "display_name": "rendots",
   "language": "python",
   "name": "python3"
  },
  "language_info": {
   "codemirror_mode": {
    "name": "ipython",
    "version": 3
   },
   "file_extension": ".py",
   "mimetype": "text/x-python",
   "name": "python",
   "nbconvert_exporter": "python",
   "pygments_lexer": "ipython3",
   "version": "3.12.3"
  }
 },
 "nbformat": 4,
 "nbformat_minor": 2
}

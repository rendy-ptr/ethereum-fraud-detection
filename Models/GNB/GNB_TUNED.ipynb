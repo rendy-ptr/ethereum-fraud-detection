{
 "cells": [
  {
   "cell_type": "code",
   "execution_count": 126,
   "metadata": {},
   "outputs": [],
   "source": [
    "import pandas as pd\n",
    "import numpy as np\n",
    "from sklearn.model_selection import GridSearchCV, StratifiedKFold\n",
    "from sklearn.naive_bayes import GaussianNB\n",
    "from sklearn.metrics import accuracy_score, recall_score, precision_score, f1_score\n",
    "from time import time"
   ]
  },
  {
   "cell_type": "code",
   "execution_count": 127,
   "metadata": {},
   "outputs": [],
   "source": [
    "x_tr_resample = pd.read_csv('../../Data/clean/X_train_smote.csv')\n",
    "X_test = pd.read_csv('../../Data/clean/X_test.csv')\n",
    "y_tr_resample = np.loadtxt(\"../../Data/clean/y_train_smote.csv\", delimiter=\",\")\n",
    "y_test = np.loadtxt(\"../../Data/clean/y_test.csv\", delimiter=\",\")"
   ]
  },
  {
   "cell_type": "code",
   "execution_count": 129,
   "metadata": {},
   "outputs": [],
   "source": [
    "skf_grid = StratifiedKFold(n_splits=10, shuffle=True, random_state=42)"
   ]
  },
  {
   "cell_type": "code",
   "execution_count": 130,
   "metadata": {},
   "outputs": [],
   "source": [
    "param_grid = {\n",
    "    # Variance smoothing with wider range\n",
    "    'var_smoothing': np.concatenate([\n",
    "        np.logspace(-15, -12, 10),  # Ultra-low range\n",
    "        np.logspace(-12, -9, 15),   # Low range\n",
    "        np.logspace(-9, -6, 15),    # Medium range\n",
    "        np.logspace(-6, -3, 10)     # High range\n",
    "    ]),\n",
    "    \n",
    "    # Class priors with more diverse combinations\n",
    "    'priors': [\n",
    "        None,  # Let the model learn from data\n",
    "        [0.05, 0.95], [0.95, 0.05],  # Highly imbalanced\n",
    "        [0.1, 0.9], [0.15, 0.85], [0.2, 0.8], [0.25, 0.75],\n",
    "        [0.3, 0.7], [0.35, 0.65],  # Moderately imbalanced\n",
    "        [0.4, 0.6], [0.45, 0.55],  # Slightly imbalanced\n",
    "        [0.5, 0.5],  # Balanced\n",
    "        [0.55, 0.45], [0.6, 0.4],  # Reverse slight imbalance\n",
    "        [0.65, 0.35], [0.7, 0.3],  # Reverse moderate imbalance\n",
    "        [0.75, 0.25], [0.8, 0.2], [0.85, 0.15],  # Reverse high imbalance\n",
    "        [0.9, 0.1], [0.95, 0.05]\n",
    "    ],\n",
    "}"
   ]
  },
  {
   "cell_type": "code",
   "execution_count": null,
   "metadata": {},
   "outputs": [],
   "source": [
    "gnb = GaussianNB()"
   ]
  },
  {
   "cell_type": "code",
   "execution_count": 131,
   "metadata": {},
   "outputs": [],
   "source": [
    "grid_search = GridSearchCV(\n",
    "    estimator=gnb,\n",
    "    param_grid=param_grid,\n",
    "    cv=skf_grid,\n",
    "    n_jobs=-1,\n",
    "    verbose=2,\n",
    "    scoring={\n",
    "        'accuracy': 'accuracy',\n",
    "        'precision_weighted': 'precision_weighted',\n",
    "        'recall_weighted': 'recall_weighted',\n",
    "        'f1_weighted': 'f1_weighted',\n",
    "        'roc_auc': 'roc_auc'\n",
    "    },\n",
    "    refit='f1_weighted',\n",
    "    return_train_score=True\n",
    ")"
   ]
  },
  {
   "cell_type": "code",
   "execution_count": 132,
   "metadata": {},
   "outputs": [
    {
     "name": "stdout",
     "output_type": "stream",
     "text": [
      "Fitting 10 folds for each of 1050 candidates, totalling 10500 fits\n"
     ]
    }
   ],
   "source": [
    "start_time = time()\n",
    "grid_search.fit(x_tr_resample, y_tr_resample)\n",
    "training_time = time() - start_time"
   ]
  },
  {
   "cell_type": "code",
   "execution_count": 139,
   "metadata": {},
   "outputs": [],
   "source": [
    "best_params = grid_search.best_params_"
   ]
  },
  {
   "cell_type": "code",
   "execution_count": null,
   "metadata": {},
   "outputs": [],
   "source": [
    "best_model = GaussianNB(**best_params)"
   ]
  },
  {
   "cell_type": "code",
   "execution_count": 142,
   "metadata": {},
   "outputs": [],
   "source": [
    "skf_eval = StratifiedKFold(n_splits=10, shuffle=True, random_state=42)\n",
    "\n",
    "accuracies = []\n",
    "recalls = []\n",
    "precisions = []\n",
    "f1_scores = []\n",
    "fold_predictions = []\n",
    "\n",
    "for fold, (train_idx, val_idx) in enumerate(skf_eval.split(x_tr_resample, y_tr_resample)):\n",
    "    # Split data\n",
    "    X_train_fold = x_tr_resample.iloc[train_idx]\n",
    "    y_train_fold = y_tr_resample[train_idx]\n",
    "    X_val_fold = x_tr_resample.iloc[val_idx]\n",
    "    y_val_fold = y_tr_resample[val_idx]\n",
    "    \n",
    "    # Train and predict\n",
    "    best_model.fit(X_train_fold, y_train_fold)\n",
    "    y_pred_fold = best_model.predict(X_val_fold)\n",
    "    \n",
    "    # Store metrics\n",
    "    accuracies.append(accuracy_score(y_val_fold, y_pred_fold))\n",
    "    recalls.append(recall_score(y_val_fold, y_pred_fold, average='weighted'))\n",
    "    precisions.append(precision_score(y_val_fold, y_pred_fold, average='weighted'))\n",
    "    f1_scores.append(f1_score(y_val_fold, y_pred_fold, average='weighted'))\n",
    "    fold_predictions.append((y_val_fold, y_pred_fold))"
   ]
  },
  {
   "cell_type": "code",
   "execution_count": 143,
   "metadata": {},
   "outputs": [],
   "source": [
    "best_model.fit(x_tr_resample, y_tr_resample)\n",
    "y_pred_test = best_model.predict(X_test)"
   ]
  },
  {
   "cell_type": "code",
   "execution_count": 144,
   "metadata": {},
   "outputs": [
    {
     "name": "stdout",
     "output_type": "stream",
     "text": [
      "Gaussian Naive Bayes Results:\n",
      "--------------------------------------------------\n",
      "Training Time: 70.67 seconds\n",
      "Best Parameters: {'priors': [0.95, 0.05], 'var_smoothing': 1e-15}\n",
      "\n",
      "Cross-validation Results (10-fold):\n",
      "Accuracy    : 95.54% (+/- 0.53%)\n",
      "Recall      : 95.54% (+/- 0.53%)\n",
      "Precision   : 95.59% (+/- 0.52%)\n",
      "F1-Score    : 95.54% (+/- 0.53%)\n",
      "\n",
      "Test Set Results:\n",
      "Accuracy    : 96.34%\n",
      "Recall      : 96.34%\n",
      "Precision   : 96.43%\n",
      "F1-Score    : 96.37%\n",
      "--------------------------------------------------\n"
     ]
    }
   ],
   "source": [
    "print(\"Gaussian Naive Bayes Results:\")\n",
    "print(\"-\" * 50)\n",
    "print(f\"Training Time: {training_time:.2f} seconds\")\n",
    "print(\"Best Parameters:\", best_params)\n",
    "print(\"\\nCross-validation Results (10-fold):\")\n",
    "print(f\"Accuracy    : {np.mean(accuracies)*100:.2f}% (+/- {np.std(accuracies)*100:.2f}%)\")\n",
    "print(f\"Recall      : {np.mean(recalls)*100:.2f}% (+/- {np.std(recalls)*100:.2f}%)\")\n",
    "print(f\"Precision   : {np.mean(precisions)*100:.2f}% (+/- {np.std(precisions)*100:.2f}%)\")\n",
    "print(f\"F1-Score    : {np.mean(f1_scores)*100:.2f}% (+/- {np.std(f1_scores)*100:.2f}%)\")\n",
    "\n",
    "print(\"\\nTest Set Results:\")\n",
    "print(f\"Accuracy    : {accuracy_score(y_test, y_pred_test)*100:.2f}%\")\n",
    "print(f\"Recall      : {recall_score(y_test, y_pred_test, average='weighted')*100:.2f}%\")\n",
    "print(f\"Precision   : {precision_score(y_test, y_pred_test, average='weighted')*100:.2f}%\")\n",
    "print(f\"F1-Score    : {f1_score(y_test, y_pred_test, average='weighted')*100:.2f}%\")\n",
    "print(\"-\" * 50)"
   ]
  }
 ],
 "metadata": {
  "kernelspec": {
   "display_name": "rendots",
   "language": "python",
   "name": "python3"
  },
  "language_info": {
   "codemirror_mode": {
    "name": "ipython",
    "version": 3
   },
   "file_extension": ".py",
   "mimetype": "text/x-python",
   "name": "python",
   "nbconvert_exporter": "python",
   "pygments_lexer": "ipython3",
   "version": "3.12.3"
  }
 },
 "nbformat": 4,
 "nbformat_minor": 2
}

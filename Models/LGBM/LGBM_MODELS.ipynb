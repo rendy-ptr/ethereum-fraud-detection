{
 "cells": [
  {
   "cell_type": "code",
   "execution_count": 60,
   "metadata": {},
   "outputs": [],
   "source": [
    "import pandas as pd\n",
    "import numpy as np\n",
    "from sklearn.metrics import accuracy_score, precision_score, recall_score, f1_score\n",
    "from lightgbm import LGBMClassifier"
   ]
  },
  {
   "cell_type": "code",
   "execution_count": 61,
   "metadata": {},
   "outputs": [],
   "source": [
    "x_tr_resample = pd.read_csv('../../Data/clean/X_train_smote.csv')\n",
    "X_test = pd.read_csv('../../Data/clean/X_test.csv')\n",
    "y_tr_resample = np.loadtxt(\"../../Data/clean/y_train_smote.csv\", delimiter=\",\")\n",
    "y_test = np.loadtxt(\"../../Data/clean/y_test.csv\", delimiter=\",\")"
   ]
  },
  {
   "cell_type": "code",
   "execution_count": 63,
   "metadata": {},
   "outputs": [
    {
     "name": "stdout",
     "output_type": "stream",
     "text": [
      "Training LightGBM...\n",
      "[LightGBM] [Info] Number of positive: 6120, number of negative: 6120\n",
      "[LightGBM] [Info] Auto-choosing row-wise multi-threading, the overhead of testing was 0.000215 seconds.\n",
      "You can set `force_row_wise=true` to remove the overhead.\n",
      "And if memory is not enough, you can set `force_col_wise=true`.\n",
      "[LightGBM] [Info] Total Bins 1411\n",
      "[LightGBM] [Info] Number of data points in the train set: 12240, number of used features: 7\n",
      "[LightGBM] [Info] [binary:BoostFromScore]: pavg=0.500000 -> initscore=0.000000\n"
     ]
    }
   ],
   "source": [
    "print(\"Training LightGBM...\")\n",
    "lgbm = LGBMClassifier()"
   ]
  },
  {
   "cell_type": "code",
   "execution_count": null,
   "metadata": {},
   "outputs": [],
   "source": [
    "lgbm.fit(x_tr_resample, y_tr_resample)"
   ]
  },
  {
   "cell_type": "code",
   "execution_count": null,
   "metadata": {},
   "outputs": [],
   "source": [
    "y_pred_lgbm = lgbm.predict(X_test)"
   ]
  },
  {
   "cell_type": "code",
   "execution_count": null,
   "metadata": {},
   "outputs": [],
   "source": [
    "lgbm_accuracy = accuracy_score(y_test, y_pred_lgbm) * 100\n",
    "lgbm_precision = precision_score(y_test, y_pred_lgbm, average='weighted') * 100\n",
    "lgbm_recall = recall_score(y_test, y_pred_lgbm, average='weighted') * 100\n",
    "lgbm_f1 = f1_score(y_test, y_pred_lgbm, average='weighted') * 100\n",
    "\n",
    "print(f\"LightGBM - Accuracy: {lgbm_accuracy:.2f}%\")\n",
    "print(f\"LightGBM - Precision: {lgbm_precision:.2f}%\")\n",
    "print(f\"LightGBM - Recall: {lgbm_recall:.2f}%\")\n",
    "print(f\"LightGBM - F1 Score: {lgbm_f1:.2f}%\")"
   ]
  }
 ],
 "metadata": {
  "kernelspec": {
   "display_name": "rendots",
   "language": "python",
   "name": "python3"
  },
  "language_info": {
   "codemirror_mode": {
    "name": "ipython",
    "version": 3
   },
   "file_extension": ".py",
   "mimetype": "text/x-python",
   "name": "python",
   "nbconvert_exporter": "python",
   "pygments_lexer": "ipython3",
   "version": "3.12.3"
  }
 },
 "nbformat": 4,
 "nbformat_minor": 2
}

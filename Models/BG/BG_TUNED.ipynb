{
 "cells": [
  {
   "cell_type": "code",
   "execution_count": 4,
   "metadata": {},
   "outputs": [],
   "source": [
    "import numpy as np\n",
    "import pickle\n",
    "from sklearn.ensemble import BaggingClassifier\n",
    "from sklearn.model_selection import train_test_split\n",
    "from sklearn.metrics import accuracy_score"
   ]
  },
  {
   "cell_type": "code",
   "execution_count": 5,
   "metadata": {},
   "outputs": [],
   "source": [
    "data = np.load('../../Data/#1/processed_data.npz')\n",
    "x_tr_resample = data['x_tr_resample']\n",
    "y_tr_resample = data['y_tr_resample']\n",
    "X_test = data['X_test']\n",
    "y_test = data['y_test']\n",
    "X_train = data['X_train']\n",
    "\n",
    "# Load normalization\n",
    "with open('../../Data/#1/power_transformer.pkl', 'rb') as f:\n",
    "    norm = pickle.load(f)\n",
    "\n",
    "# Normalize\n",
    "norm_train_feature = norm.fit_transform(X_train)\n",
    "norm_test_feature = norm.transform(X_test)"
   ]
  },
  {
   "cell_type": "code",
   "execution_count": 6,
   "metadata": {},
   "outputs": [],
   "source": [
    "param_grid = [\n",
    "    {'n_estimators': [50, 100, 200], \n",
    "     'max_samples': [0.5, 0.7, 1.0], \n",
    "     'max_features': [0.5, 0.7, 1.0],\n",
    "     'bootstrap': [True, False],\n",
    "     'bootstrap_features': [True, False]}\n",
    "]"
   ]
  },
  {
   "cell_type": "code",
   "execution_count": 7,
   "metadata": {},
   "outputs": [],
   "source": [
    "best_accuracy = 0\n",
    "best_params = None\n"
   ]
  },
  {
   "cell_type": "code",
   "execution_count": 8,
   "metadata": {},
   "outputs": [],
   "source": [
    "for n_estimators in param_grid[0]['n_estimators']:\n",
    "    for max_samples in param_grid[0]['max_samples']:\n",
    "        for max_features in param_grid[0]['max_features']:\n",
    "            for bootstrap in param_grid[0]['bootstrap']:\n",
    "                for bootstrap_features in param_grid[0]['bootstrap_features']:\n",
    "                    # Buat model Bagging Classifier\n",
    "                    clf = BaggingClassifier(\n",
    "                        n_estimators=n_estimators,\n",
    "                        max_samples=max_samples,\n",
    "                        max_features=max_features,\n",
    "                        bootstrap=bootstrap,\n",
    "                        bootstrap_features=bootstrap_features,\n",
    "                        random_state=42\n",
    "                    )\n",
    "                    \n",
    "                    # Latih model\n",
    "                    clf.fit(x_tr_resample, y_tr_resample)\n",
    "                    \n",
    "                    # Prediksi\n",
    "                    y_pred = clf.predict(norm_test_feature)\n",
    "                    \n",
    "                    # Hitung akurasi\n",
    "                    accuracy = accuracy_score(y_test, y_pred)\n",
    "                    \n",
    "                    # Update hasil terbaik\n",
    "                    if accuracy > best_accuracy:\n",
    "                        best_accuracy = accuracy\n",
    "                        best_params = {\n",
    "                            'n_estimators': n_estimators,\n",
    "                            'max_samples': max_samples,\n",
    "                            'max_features': max_features,\n",
    "                            'bootstrap': bootstrap,\n",
    "                            'bootstrap_features': bootstrap_features\n",
    "                        }\n"
   ]
  },
  {
   "cell_type": "code",
   "execution_count": 9,
   "metadata": {},
   "outputs": [
    {
     "name": "stdout",
     "output_type": "stream",
     "text": [
      "Best Hyperparameters: {'n_estimators': 50, 'max_samples': 1.0, 'max_features': 1.0, 'bootstrap': False, 'bootstrap_features': True}\n",
      "Accuracy: 97.82%\n"
     ]
    }
   ],
   "source": [
    "print(\"Best Hyperparameters:\", best_params)\n",
    "print(f\"Accuracy: {best_accuracy * 100:.2f}%\")\n"
   ]
  }
 ],
 "metadata": {
  "kernelspec": {
   "display_name": "TA",
   "language": "python",
   "name": "python3"
  },
  "language_info": {
   "codemirror_mode": {
    "name": "ipython",
    "version": 3
   },
   "file_extension": ".py",
   "mimetype": "text/x-python",
   "name": "python",
   "nbconvert_exporter": "python",
   "pygments_lexer": "ipython3",
   "version": "3.10.12"
  }
 },
 "nbformat": 4,
 "nbformat_minor": 2
}

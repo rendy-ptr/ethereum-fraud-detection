{
 "cells": [
  {
   "cell_type": "code",
   "execution_count": 1,
   "metadata": {},
   "outputs": [],
   "source": [
    "import pandas as pd\n",
    "import numpy as np\n",
    "from sklearn.metrics import accuracy_score, precision_score, recall_score, f1_score\n",
    "from catboost import CatBoostClassifier"
   ]
  },
  {
   "cell_type": "code",
   "execution_count": 2,
   "metadata": {},
   "outputs": [],
   "source": [
    "x_tr_resample = pd.read_csv('../../Data/clean/X_train_smote.csv')\n",
    "X_test = pd.read_csv('../../Data/clean/X_test.csv')\n",
    "y_tr_resample = np.loadtxt(\"../../Data/clean/y_train_smote.csv\", delimiter=\",\")\n",
    "y_test = np.loadtxt(\"../../Data/clean/y_test.csv\", delimiter=\",\")"
   ]
  },
  {
   "cell_type": "code",
   "execution_count": 3,
   "metadata": {},
   "outputs": [
    {
     "name": "stdout",
     "output_type": "stream",
     "text": [
      "Inisiasi Model CatBoost...\n"
     ]
    }
   ],
   "source": [
    "print(\"Inisiasi Model CatBoost...\")\n",
    "catboost = CatBoostClassifier(verbose=0)"
   ]
  },
  {
   "cell_type": "code",
   "execution_count": 4,
   "metadata": {},
   "outputs": [
    {
     "data": {
      "text/plain": [
       "<catboost.core.CatBoostClassifier at 0x242abcdb110>"
      ]
     },
     "execution_count": 4,
     "metadata": {},
     "output_type": "execute_result"
    }
   ],
   "source": [
    "catboost.fit(x_tr_resample, y_tr_resample)"
   ]
  },
  {
   "cell_type": "code",
   "execution_count": 5,
   "metadata": {},
   "outputs": [],
   "source": [
    "y_pred_catboost = catboost.predict(X_test)"
   ]
  },
  {
   "cell_type": "code",
   "execution_count": 6,
   "metadata": {},
   "outputs": [
    {
     "name": "stdout",
     "output_type": "stream",
     "text": [
      "CatBoost - Accuracy: 99.14%\n",
      "CatBoost - Precision: 99.13%\n",
      "CatBoost - Recall: 99.14%\n",
      "CatBoost - F1 Score: 99.13%\n"
     ]
    }
   ],
   "source": [
    "catboost_accuracy = accuracy_score(y_test, y_pred_catboost) * 100\n",
    "catboost_precision = precision_score(y_test, y_pred_catboost, average='weighted') * 100\n",
    "catboost_recall = recall_score(y_test, y_pred_catboost, average='weighted') * 100\n",
    "catboost_f1 = f1_score(y_test, y_pred_catboost, average='weighted') * 100\n",
    "\n",
    "print(f\"CatBoost - Accuracy: {catboost_accuracy:.2f}%\")\n",
    "print(f\"CatBoost - Precision: {catboost_precision:.2f}%\")\n",
    "print(f\"CatBoost - Recall: {catboost_recall:.2f}%\")\n",
    "print(f\"CatBoost - F1 Score: {catboost_f1:.2f}%\")"
   ]
  }
 ],
 "metadata": {
  "kernelspec": {
   "display_name": "rendots",
   "language": "python",
   "name": "python3"
  },
  "language_info": {
   "codemirror_mode": {
    "name": "ipython",
    "version": 3
   },
   "file_extension": ".py",
   "mimetype": "text/x-python",
   "name": "python",
   "nbconvert_exporter": "python",
   "pygments_lexer": "ipython3",
   "version": "3.12.3"
  }
 },
 "nbformat": 4,
 "nbformat_minor": 2
}
